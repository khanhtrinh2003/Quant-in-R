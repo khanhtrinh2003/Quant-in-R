{
 "cells": [
  {
   "attachments": {},
   "cell_type": "markdown",
   "metadata": {},
   "source": [
    "load libraries\n",
    "---"
   ]
  },
  {
   "cell_type": "code",
   "execution_count": 3,
   "metadata": {
    "vscode": {
     "languageId": "r"
    }
   },
   "outputs": [
    {
     "name": "stderr",
     "output_type": "stream",
     "text": [
      "Loading required package: quantmod\n",
      "\n",
      "Warning message:\n",
      "\"package 'quantmod' was built under R version 4.2.2\"\n",
      "Loading required package: xts\n",
      "\n",
      "Warning message:\n",
      "\"package 'xts' was built under R version 4.2.2\"\n",
      "Loading required package: zoo\n",
      "\n",
      "Warning message:\n",
      "\"package 'zoo' was built under R version 4.2.2\"\n",
      "\n",
      "Attaching package: 'zoo'\n",
      "\n",
      "\n",
      "The following objects are masked from 'package:base':\n",
      "\n",
      "    as.Date, as.Date.numeric\n",
      "\n",
      "\n",
      "Loading required package: TTR\n",
      "\n",
      "Warning message:\n",
      "\"package 'TTR' was built under R version 4.2.2\"\n",
      "Registered S3 method overwritten by 'quantmod':\n",
      "  method            from\n",
      "  as.zoo.data.frame zoo \n",
      "\n",
      "Loading required package: data.table\n",
      "\n",
      "Warning message:\n",
      "\"package 'data.table' was built under R version 4.2.2\"\n",
      "\n",
      "Attaching package: 'data.table'\n",
      "\n",
      "\n",
      "The following objects are masked from 'package:xts':\n",
      "\n",
      "    first, last\n",
      "\n",
      "\n"
     ]
    }
   ],
   "source": [
    "if(!require(quantmod)) install.packages(\"quantmod\")\n",
    "library(quantmod)\n",
    "\n",
    "if(!require(data.table)) install.packages(\"data.table\")\n",
    "library(data.table)"
   ]
  },
  {
   "attachments": {},
   "cell_type": "markdown",
   "metadata": {},
   "source": [
    "# Input data"
   ]
  },
  {
   "cell_type": "code",
   "execution_count": 4,
   "metadata": {
    "vscode": {
     "languageId": "r"
    }
   },
   "outputs": [],
   "source": [
    "# dataFull<-read.csv(\"D:/KTrinh/python/rquant/Kapital AMC/output data/dataFull.csv\")\n",
    "load(\"output data/dataFull.Rdata\")\n",
    "source(\"D:/KTrinh/python/rquant/Kapital AMC/clean data code/4_index.R\")\n",
    "marketIndex <- marketIndex[,c(\"date\",\"close_VNI\")]\n",
    "setkey(marketIndex,date)"
   ]
  },
  {
   "attachments": {},
   "cell_type": "markdown",
   "metadata": {},
   "source": [
    "# Code for backtest "
   ]
  },
  {
   "attachments": {},
   "cell_type": "markdown",
   "metadata": {},
   "source": [
    "## Data require"
   ]
  },
  {
   "cell_type": "code",
   "execution_count": null,
   "metadata": {
    "vscode": {
     "languageId": "r"
    }
   },
   "outputs": [],
   "source": [
    "dset <- dataFull[,c(\"ticker\",\"date\",\"year\",\"quarter\",\"month\",\"sector\",\"industry\",\"subindustry\",\"close\",\"return\",\"volume\",\"exchange\",\n",
    "                    \"Sales_net\",\"COGS\",\"assets\",\"GrossProfit\",\"Selling_expense\",\"Managing_expense\"\n",
    ")][date > \"2013-01-01\"]"
   ]
  },
  {
   "attachments": {},
   "cell_type": "markdown",
   "metadata": {},
   "source": [
    "## Aglorith"
   ]
  },
  {
   "cell_type": "code",
   "execution_count": null,
   "metadata": {
    "vscode": {
     "languageId": "r"
    }
   },
   "outputs": [],
   "source": [
    "dset[,':='(f1 = rank(Sales_net/COGS,na.last = \"keep\")/.N,\n",
    "            f2 = rank(Sales_net/assets,na.last = \"keep\")/.N,\n",
    "            f3 = rank(GrossProfit/(Selling_expense + Managing_expense),na.last = \"keep\")/.N\n",
    "    ),by=c(\"year\",\"quarter\",\"subindustry\")\n",
    "]\n",
    "\n",
    "dset[,f4:= rank(f1+f2+f3,na.last = \"keep\")/.N\n",
    "        ,by=c(\"year\",\"quarter\",\"subindustry\")\n",
    "        ]\n",
    "\n",
    "dset[,':='(position=ifelse(f4>=0.9,1,0),\n",
    "            weight =NA \n",
    "                )]"
   ]
  },
  {
   "attachments": {},
   "cell_type": "markdown",
   "metadata": {},
   "source": [
    "# code for visualize data"
   ]
  },
  {
   "attachments": {},
   "cell_type": "markdown",
   "metadata": {},
   "source": [
    "## split data"
   ]
  },
  {
   "cell_type": "code",
   "execution_count": null,
   "metadata": {
    "vscode": {
     "languageId": "r"
    }
   },
   "outputs": [],
   "source": [
    "dset2 <- dset[position==1]\n",
    "dset2<-dset2[,.(re=mean(return,na.rm = TRUE)),by=date]\n",
    "setkey(dset2,date)\n",
    "dset2[,re1:=ifelse(is.na(re),1,1+re)][,index:=cumprod(re1)]"
   ]
  },
  {
   "attachments": {},
   "cell_type": "markdown",
   "metadata": {},
   "source": [
    "## Add Vnindex"
   ]
  },
  {
   "cell_type": "code",
   "execution_count": null,
   "metadata": {
    "vscode": {
     "languageId": "r"
    }
   },
   "outputs": [],
   "source": [
    "dset2 <- marketIndex[dset2]\n",
    "dset2[,vnindex:=close_VNI/close_VNI[1]]"
   ]
  },
  {
   "attachments": {},
   "cell_type": "markdown",
   "metadata": {},
   "source": [
    "## plot data"
   ]
  },
  {
   "cell_type": "code",
   "execution_count": null,
   "metadata": {
    "vscode": {
     "languageId": "r"
    }
   },
   "outputs": [],
   "source": [
    "plot(dset2$date,dset2$index,type = \"l\",col=\"blue\")    \n",
    "lines(dset2$date,dset2$vnindex,col=\"red\")"
   ]
  },
  {
   "attachments": {},
   "cell_type": "markdown",
   "metadata": {},
   "source": [
    "# Find value at risk Vnindex"
   ]
  },
  {
   "cell_type": "code",
   "execution_count": null,
   "metadata": {
    "vscode": {
     "languageId": "r"
    }
   },
   "outputs": [],
   "source": [
    "dset2[,Vnindex_return := f_ROC(vnindex,i = 10)]\n",
    "hist(dset2$Vnindex_return)\n",
    "mean = mean(dset2$Vnindex_return,na.rm = TRUE)\n",
    "sd(dset2$Vnindex_return,na.rm = TRUE)\n",
    "quantile(dset2$Vnindex_return,0.01,na.rm = TRUE)\n",
    "\n",
    "sd(dset2[Vnindex_return<= -0.05]$Vnindex_return,na.rm = TRUE)\n",
    "dset2$year=year(dset2$date)\n",
    "dset2[,.(returns= mean(re,na.rm = TRUE)*250,index_return =mean(Vnindex_return,na.rm=TRUE)*25,\n",
    "         stddev = sd(re,na.rm=TRUE)*sqrt(250)),by=year]\n"
   ]
  }
 ],
 "metadata": {
  "kernelspec": {
   "display_name": "R",
   "language": "R",
   "name": "ir"
  },
  "language_info": {
   "codemirror_mode": "r",
   "file_extension": ".r",
   "mimetype": "text/x-r-source",
   "name": "R",
   "pygments_lexer": "r",
   "version": "4.2.1"
  },
  "orig_nbformat": 4,
  "vscode": {
   "interpreter": {
    "hash": "a42ccb73e7d9bfdf27e036f1d2b8b681e55fc0743cc5586bc2474d4a60f4b886"
   }
  }
 },
 "nbformat": 4,
 "nbformat_minor": 2
}
